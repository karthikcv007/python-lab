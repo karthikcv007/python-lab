{
 "cells": [
  {
   "cell_type": "code",
   "execution_count": null,
   "id": "c0cd11d4",
   "metadata": {},
   "outputs": [],
   "source": [
    "a=int(input(\"Enter the first number:\"))\n",
    "b=int(input(\"Enter the second number:\"))\n",
    "if(a>b):\n",
    "    print(\"The largest number is:\",a)\n",
    "else:\n",
    "    print(\"The largest number is:\",b)\n"
   ]
  },
  {
   "cell_type": "code",
   "execution_count": 1,
   "id": "ea4867ef",
   "metadata": {},
   "outputs": [
    {
     "name": "stdout",
     "output_type": "stream",
     "text": [
      "Enter a number:6\n",
      "6 is an even number\n"
     ]
    }
   ],
   "source": [
    "x=int(input(\"Enter a number:\"))\n",
    "if(x%2==0):\n",
    "    print(x,\"is an even number\")\n",
    "else:\n",
    "    print(x,\"is an odd number\")"
   ]
  },
  {
   "cell_type": "code",
   "execution_count": 2,
   "id": "c09350c8",
   "metadata": {},
   "outputs": [
    {
     "name": "stdout",
     "output_type": "stream",
     "text": [
      "Enter a number:-15\n",
      "-15 is a negative number\n"
     ]
    }
   ],
   "source": [
    "a=int(input(\"Enter a number:\"))\n",
    "if(a>0):\n",
    "    print(a,\"is a positive number\")\n",
    "elif(a<0):\n",
    "    print(a,\"is a negative number\")\n",
    "else:\n",
    "    print(\"The number is zero\")"
   ]
  },
  {
   "cell_type": "code",
   "execution_count": 8,
   "id": "fd6db277",
   "metadata": {},
   "outputs": [
    {
     "name": "stdout",
     "output_type": "stream",
     "text": [
      "Enter a number:4465\n",
      "4465 is not a two digit number \n"
     ]
    }
   ],
   "source": [
    "x=int(input(\"Enter a number:\"))\n",
    "if(x>9 and x<100):\n",
    "    print(x,\"is a two digit number\")\n",
    "else:\n",
    "    print(x,\"is not a two digit number \")"
   ]
  },
  {
   "cell_type": "code",
   "execution_count": null,
   "id": "d206702a",
   "metadata": {},
   "outputs": [],
   "source": [
    "a=int(input(\"Enter the coefficient pf x^2  :\"))\n",
    "b=int(input(\"Enter the coefficient of x    :\"))\n",
    "c=int(input(\"Enter the constant            :\"))\n",
    "p=((b**2)-4*a*c)\n",
    "if p==0:\n",
    "    print(\"Roots are real and equal\")\n",
    "elif p>0:\n",
    "    print(\"roots are real and distinct\")\n",
    "else:\n",
    "    print(\"Roots are imaginary\")\n",
    " "
   ]
  },
  {
   "cell_type": "code",
   "execution_count": 11,
   "id": "8b17e272",
   "metadata": {},
   "outputs": [
    {
     "name": "stdout",
     "output_type": "stream",
     "text": [
      "Enter 1st number:5\n",
      "Enter the 2nd number:3\n",
      "Enter the 3rd number:8\n",
      "3 is the smallest number\n"
     ]
    }
   ],
   "source": [
    "a=int(input(\"Enter 1st number:\"))\n",
    "b=int(input(\"Enter the 2nd number:\"))\n",
    "c=int(input(\"Enter the 3rd number:\"))\n",
    "if(a<b and a<c):\n",
    "    print(a,\"is the smallest number\")\n",
    "elif(b<a and b<c):\n",
    "    print(b,\"is the smallest number\")\n",
    "else:\n",
    "    print(c,\"is the smallest number\")"
   ]
  },
  {
   "cell_type": "code",
   "execution_count": 7,
   "id": "01c5a6e8",
   "metadata": {},
   "outputs": [
    {
     "name": "stdout",
     "output_type": "stream",
     "text": [
      "Enter a two digit number:32\n",
      "2 is the smallest number\n"
     ]
    }
   ],
   "source": [
    "a=int(input(\"Enter a two digit number:\"))\n",
    "n=a%10\n",
    "m=a//10\n",
    "if n>m:\n",
    "    print(m,\"is the smallest number\")\n",
    "elif n<m:\n",
    "    print(n,\"is the smallest number\")\n",
    "else:\n",
    "        print(\"Both the digit are same\")"
   ]
  },
  {
   "cell_type": "code",
   "execution_count": 1,
   "id": "ead75ea9",
   "metadata": {},
   "outputs": [
    {
     "name": "stdout",
     "output_type": "stream",
     "text": [
      "Enter the 1st number:27\n",
      "Enter the 2nd number:3\n",
      "27 is divisible by 3\n"
     ]
    }
   ],
   "source": [
    "a=int(input(\"Enter the 1st number:\"))\n",
    "b=int(input(\"Enter the 2nd number:\"))\n",
    "if(a%b==0):\n",
    "    print(a,\"is divisible by\",b)\n",
    "elif(b%a==0):\n",
    "    print(b,\"is divisible by\",a)\n",
    "elif(a%b!=0):\n",
    "    print(a,\"is not divisible by\",b)\n",
    "else:\n",
    "    print(b,\"is not divisible by\",a)\n",
    "\n"
   ]
  },
  {
   "cell_type": "code",
   "execution_count": 11,
   "id": "3bcdda42",
   "metadata": {},
   "outputs": [
    {
     "name": "stdout",
     "output_type": "stream",
     "text": [
      "Enter the first number  :8\n",
      "Enter tthe 2nd number   :-9\n",
      "The distance is 17\n"
     ]
    }
   ],
   "source": [
    "a=int(input(\"Enter the first number  :\"))\n",
    "b=int(input(\"Enter tthe 2nd number   :\"))\n",
    "dis=a-b\n",
    "if dis>0:\n",
    "    print(\"The distance is\",dis)\n",
    "else:\n",
    "    print(\"the distance is\",abs(dis))"
   ]
  },
  {
   "cell_type": "code",
   "execution_count": 16,
   "id": "cec1e756",
   "metadata": {},
   "outputs": [
    {
     "name": "stdout",
     "output_type": "stream",
     "text": [
      "Enter an year    :2050\n",
      "2050 is not a leap year\n"
     ]
    }
   ],
   "source": [
    "y=int(input(\"Enter an year    :\"))\n",
    "if y%100==0:\n",
    "    if y%400==0:\n",
    "        print(y,\"is a leap year\")\n",
    "    else:\n",
    "        print(y,\"is not a leap year\")\n",
    "else:\n",
    "    if y%4==0:\n",
    "        print(y,\"is a leap year\")\n",
    "    else:\n",
    "        print(y,\"is not a leap year\")"
   ]
  }
 ],
 "metadata": {
  "kernelspec": {
   "display_name": "Python 3 (ipykernel)",
   "language": "python",
   "name": "python3"
  },
  "language_info": {
   "codemirror_mode": {
    "name": "ipython",
    "version": 3
   },
   "file_extension": ".py",
   "mimetype": "text/x-python",
   "name": "python",
   "nbconvert_exporter": "python",
   "pygments_lexer": "ipython3",
   "version": "3.11.4"
  }
 },
 "nbformat": 4,
 "nbformat_minor": 5
}
