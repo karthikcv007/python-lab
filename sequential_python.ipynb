{
 "cells": [
  {
   "cell_type": "code",
   "execution_count": 5,
   "id": "05b868e9",
   "metadata": {},
   "outputs": [
    {
     "name": "stdout",
     "output_type": "stream",
     "text": [
      "enter a number:5\n",
      "enter another number:5\n",
      "The sum is: 10\n"
     ]
    }
   ],
   "source": [
    "a=int(input(\"enter a number:\"))\n",
    "b=int(input(\"enter another number:\"))\n",
    "sum=a+b\n",
    "print(\"The sum is:\",sum)\n"
   ]
  },
  {
   "cell_type": "code",
   "execution_count": 10,
   "id": "0dc9ee51",
   "metadata": {},
   "outputs": [
    {
     "name": "stdout",
     "output_type": "stream",
     "text": [
      "enter the 1st side of the triangle:3\n",
      "enter the 2nd side of the triangle:4\n",
      "enter 3rd side of the triangle:5\n",
      "The area is: 6.0\n",
      "The perimeter is: 12\n"
     ]
    }
   ],
   "source": [
    "x=int(input(\"enter the 1st side of the triangle:\"))\n",
    "y=int(input(\"enter the 2nd side of the triangle:\"))\n",
    "z=int(input(\"enter 3rd side of the triangle:\"))\n",
    "p=x+y+z\n",
    "s=int(p/2)\n",
    "area=(s*(s-x)*(s-y)*(s-z))**(1/2)\n",
    "print(\"The area is:\",area)\n",
    "print(\"The perimeter is:\",p)"
   ]
  },
  {
   "cell_type": "code",
   "execution_count": 13,
   "id": "6a9f66a0",
   "metadata": {},
   "outputs": [
    {
     "name": "stdout",
     "output_type": "stream",
     "text": [
      "enter radius of the circle:2\n",
      "The area is: 12\n"
     ]
    }
   ],
   "source": [
    "r=int(input(\"enter radius of the circle:\"))\n",
    "a=int(22/7*(r**2))\n",
    "print(\"The area is:\",a)"
   ]
  },
  {
   "cell_type": "code",
   "execution_count": 14,
   "id": "e4ff439f",
   "metadata": {},
   "outputs": [
    {
     "name": "stdout",
     "output_type": "stream",
     "text": [
      "Enter  1st number:2\n",
      "Enter the 2nd number:3\n",
      "Enter the 3rd number:4\n",
      "The sum is: 9\n",
      "The average is: 3.0\n"
     ]
    }
   ],
   "source": [
    "a=int(input(\"Enter  1st number:\"))\n",
    "b=int(input(\"Enter the 2nd number:\"))\n",
    "c=int(input(\"Enter the 3rd number:\"))\n",
    "s=a+b+c\n",
    "avr=s/3\n",
    "print(\"The sum is:\",s)\n",
    "print(\"The average is:\",avr)"
   ]
  },
  {
   "cell_type": "code",
   "execution_count": 3,
   "id": "654e233d",
   "metadata": {},
   "outputs": [
    {
     "name": "stdout",
     "output_type": "stream",
     "text": [
      "Enter the number of days:365\n",
      "Number of month: 12\n",
      "Number of year: 1\n"
     ]
    }
   ],
   "source": [
    "a=int(input(\"Enter the number of days:\"))\n",
    "b=int(a/30)\n",
    "c=int(b/12)\n",
    "print(\"Number of month:\",b)\n",
    "print(\"Number of year:\",c)"
   ]
  },
  {
   "cell_type": "code",
   "execution_count": 4,
   "id": "4c568eb1",
   "metadata": {},
   "outputs": [
    {
     "name": "stdout",
     "output_type": "stream",
     "text": [
      "second:3600\n",
      "Minute: 60\n",
      "Hour: 1\n"
     ]
    }
   ],
   "source": [
    "s=int(input(\"second:\"))\n",
    "m=int(s/60)\n",
    "h=int(m/60)\n",
    "print(\"Minute:\",m)\n",
    "print(\"Hour:\",h)"
   ]
  },
  {
   "cell_type": "code",
   "execution_count": 5,
   "id": "40bf7cda",
   "metadata": {},
   "outputs": [
    {
     "name": "stdout",
     "output_type": "stream",
     "text": [
      "enter the 1st number:4\n",
      "Enter the 2nd number:3\n",
      "The sum is: 7\n",
      "The difference is: 1\n",
      "The product is: 12\n",
      "The quotient is: 1.3333333333333333\n"
     ]
    }
   ],
   "source": [
    "a=int(input(\"enter the 1st number:\"))\n",
    "b=int(input(\"Enter the 2nd number:\"))\n",
    "s=a+b\n",
    "d=a-b\n",
    "p=a*b\n",
    "q=a/b\n",
    "print(\"The sum is:\",s)\n",
    "print(\"The difference is:\",d)\n",
    "print(\"The product is:\",p)\n",
    "print(\"The quotient is:\",q)"
   ]
  },
  {
   "cell_type": "code",
   "execution_count": 3,
   "id": "3107137b",
   "metadata": {},
   "outputs": [
    {
     "name": "stdout",
     "output_type": "stream",
     "text": [
      "Enter the total mark:100\n",
      "Enter the mark in English:90\n",
      "Enter the mark in maths:90\n",
      "Enter the mark in EVS:90\n",
      "Enter the mark in CT:90\n",
      "Enter the mark in python lab:90\n",
      "The percentage is: 90.0\n"
     ]
    }
   ],
   "source": [
    "a=int(input(\"Enter the total mark:\"))\n",
    "x=int(input(\"Enter the mark in English:\"))\n",
    "y=int(input(\"Enter the mark in maths:\"))\n",
    "z=int(input(\"Enter the mark in EVS:\"))\n",
    "p=int(input(\"Enter the mark in CT:\"))\n",
    "q=int(input(\"Enter the mark in python lab:\"))\n",
    "s=x+y+z+p+q\n",
    "per=(s/(a*5))*100\n",
    "print(\"The percentage is:\",per)"
   ]
  },
  {
   "cell_type": "code",
   "execution_count": null,
   "id": "9181cf00",
   "metadata": {},
   "outputs": [],
   "source": []
  }
 ],
 "metadata": {
  "kernelspec": {
   "display_name": "Python 3 (ipykernel)",
   "language": "python",
   "name": "python3"
  },
  "language_info": {
   "codemirror_mode": {
    "name": "ipython",
    "version": 3
   },
   "file_extension": ".py",
   "mimetype": "text/x-python",
   "name": "python",
   "nbconvert_exporter": "python",
   "pygments_lexer": "ipython3",
   "version": "3.11.4"
  }
 },
 "nbformat": 4,
 "nbformat_minor": 5
}
