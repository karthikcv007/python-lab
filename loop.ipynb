{
 "cells": [
  {
   "cell_type": "code",
   "execution_count": 1,
   "id": "ec8746be",
   "metadata": {},
   "outputs": [
    {
     "name": "stdout",
     "output_type": "stream",
     "text": [
      "Enter a limit:3\n",
      "1\n",
      "3\n",
      "5\n"
     ]
    }
   ],
   "source": [
    "x=int(input(\"Enter a limit:\"))\n",
    "for i in range(1,2*x):\n",
    "    if i%2!=0:\n",
    "        print(i)"
   ]
  },
  {
   "cell_type": "code",
   "execution_count": 2,
   "id": "bcfdeb3b",
   "metadata": {},
   "outputs": [
    {
     "name": "stdout",
     "output_type": "stream",
     "text": [
      "Enter a number:453\n",
      "354\n",
      "The number 453 is not palindrome\n"
     ]
    }
   ],
   "source": [
    "a=int(input(\"Enter a number:\"))\n",
    "p=a\n",
    "s=0\n",
    "while p !=0:\n",
    "    p=p//10\n",
    "    s=s+1\n",
    "#print(s)\n",
    "rev=0\n",
    "tn=a\n",
    "for i in range(s):\n",
    "    x=a%10\n",
    "    a=a//10\n",
    "    rev=(rev*10)+x\n",
    "\n",
    "print(rev)\n",
    "if rev==tn:\n",
    "    print('The number',tn,'is palindrome')\n",
    "else:\n",
    "    print('The number',tn,'is not palindrome')"
   ]
  },
  {
   "cell_type": "code",
   "execution_count": null,
   "id": "63e520ce",
   "metadata": {},
   "outputs": [],
   "source": [
    "n=int(input(\"Enter a binary number  :\"))\n",
    "a=0\n",
    "count=0\n",
    "dig=0\n",
    "x=n\n",
    "while x!=0:\n",
    "    dig=x%10\n",
    "    a=a+dig*(2**count)\n",
    "    x//=10\n",
    "    count+=1\n",
    "print(a)"
   ]
  },
  {
   "cell_type": "code",
   "execution_count": 4,
   "id": "ecaa4af8",
   "metadata": {},
   "outputs": [
    {
     "name": "stdout",
     "output_type": "stream",
     "text": [
      "Enter the limit:9\n",
      "Sum== 45\n"
     ]
    }
   ],
   "source": [
    "a=int(input(\"Enter the limit:\"))\n",
    "sum=0\n",
    "for i in range(1,a+1):\n",
    "    sum=sum+i\n",
    "print(\"Sum==\",sum)\n"
   ]
  },
  {
   "cell_type": "code",
   "execution_count": 6,
   "id": "9fd459af",
   "metadata": {},
   "outputs": [
    {
     "name": "stdout",
     "output_type": "stream",
     "text": [
      "Enter a number:479\n",
      "Reverse of the number is 974\n"
     ]
    }
   ],
   "source": [
    "x=int(input(\"Enter a number:\"))\n",
    "tn=x\n",
    "nd=0\n",
    "while tn !=0:\n",
    "    tn=tn//10\n",
    "    nd=nd+1\n",
    "#print(nd)\n",
    "rev=0\n",
    "for i in range(nd):\n",
    "    a=x%10\n",
    "    x=x//10\n",
    "    rev=(rev*10)+a\n",
    "print(\"Reverse of the number is\",rev)"
   ]
  },
  {
   "cell_type": "code",
   "execution_count": 9,
   "id": "10ac4e9d",
   "metadata": {},
   "outputs": [
    {
     "name": "stdout",
     "output_type": "stream",
     "text": [
      "Enter a number:3\n",
      "Factorial of the given number is: 6\n"
     ]
    }
   ],
   "source": [
    "n=int(input(\"Enter a number:\"))\n",
    "fact=1\n",
    "\n",
    "for i in range(1,n+1):\n",
    "    fact=fact*i\n",
    "print(\"Factorial of the given number is:\",fact)"
   ]
  },
  {
   "cell_type": "code",
   "execution_count": 2,
   "id": "8a7d54a8",
   "metadata": {},
   "outputs": [
    {
     "name": "stdout",
     "output_type": "stream",
     "text": [
      "Enter a number :10\n",
      "it is automorphic  :\n"
     ]
    }
   ],
   "source": [
    "n=int(input(\"Enter a number :\"))\n",
    "if n%10==0:\n",
    "    print(\"it is automorphic  :\")\n",
    "else:\n",
    "    x=n**2\n",
    "    n1=n\n",
    "    i=0\n",
    "    while n1>0:\n",
    "        n1=n1//10\n",
    "        i=i+1\n",
    "        if n1==0:\n",
    "            k=0\n",
    "            x1=x%(10**i)\n",
    "            if x1==n:\n",
    "                print(n,\"is automorphic\")\n",
    "            else:\n",
    "                print(n,\"is not automorphic\")"
   ]
  },
  {
   "cell_type": "code",
   "execution_count": 1,
   "id": "01e85fb3",
   "metadata": {},
   "outputs": [
    {
     "name": "stdout",
     "output_type": "stream",
     "text": [
      "Enter a number   :4\n",
      "Sum of factors  == 7\n"
     ]
    }
   ],
   "source": [
    "n=int(input(\"Enter a number   :\"))\n",
    "fact=0\n",
    "for i in range(1,n+1):\n",
    "    if n%i==0:\n",
    "        fact +=i\n",
    "        #print(i)\n",
    "print(\"Sum of factors  ==\",fact)"
   ]
  },
  {
   "cell_type": "code",
   "execution_count": null,
   "id": "c2f68597",
   "metadata": {},
   "outputs": [],
   "source": [
    "a=int(input(\"Enter a number        :\"))\n",
    "b=int(input(\"Enter another number  :\"))\n",
    "temp1=a\n",
    "temp2=b\n",
    "while b:\n",
    "    a,b=b,a%b\n",
    "    gcd=a\n",
    "print(\" GCD =\",gcd)"
   ]
  },
  {
   "cell_type": "code",
   "execution_count": 17,
   "id": "8b7cd198",
   "metadata": {},
   "outputs": [
    {
     "name": "stdout",
     "output_type": "stream",
     "text": [
      "Enter a number: 370\n",
      "370 is an Armstrong number.\n"
     ]
    }
   ],
   "source": [
    "num = int(input(\"Enter a number: \"))\n",
    "num_str = str(num)\n",
    "num_digits = len(num_str)\n",
    "sum_of_digits = 0\n",
    "\n",
    "for digit in num_str:\n",
    "    sum_of_digits += int(digit) ** num_digits\n",
    "\n",
    "if num == sum_of_digits:\n",
    "    print(num, \"is an Armstrong number.\")\n",
    "else:\n",
    "    print(num, \"is not an Armstrong number.\")"
   ]
  },
  {
   "cell_type": "code",
   "execution_count": 18,
   "id": "a2dfc2da",
   "metadata": {
    "scrolled": true
   },
   "outputs": [
    {
     "name": "stdout",
     "output_type": "stream",
     "text": [
      "Enter a number        :4\n",
      "Enter another number  :7\n",
      "square of natural number between 4 , 7 is 25\n",
      "square of natural number between 4 , 7 is 36\n"
     ]
    }
   ],
   "source": [
    "a=int(input(\"Enter a number        :\"))\n",
    "b=int(input(\"Enter another number  :\"))\n",
    "for i in range(a+1,b):\n",
    "    sqr=i**2\n",
    "    print(\"square of natural number between\",a,\",\",b,\"is\",sqr)\n"
   ]
  },
  {
   "cell_type": "code",
   "execution_count": 4,
   "id": "37f1c377",
   "metadata": {},
   "outputs": [
    {
     "name": "stdout",
     "output_type": "stream",
     "text": [
      "Enter a limit  :5\n",
      "sum  == 15\n"
     ]
    }
   ],
   "source": [
    "n=int(input(\"Enter a limit  :\"))\n",
    "result=0\n",
    "for i in range(1,n+1):\n",
    "    term=(-1)**(i+1)*(i**2)\n",
    "    result+=term\n",
    "    #print(term)\n",
    "print(\"sum  ==\",result)"
   ]
  },
  {
   "cell_type": "code",
   "execution_count": null,
   "id": "9db3362d",
   "metadata": {},
   "outputs": [],
   "source": [
    "x=int(input(\"Enter a number  :\"))\n",
    "n=int(input(\"Enter another number  :\"))\n",
    "result=1\n",
    "i=0\n",
    "while i<n:\n",
    "    result=result*x\n",
    "    i=i+1\n",
    "print(\"x^n = \",result)"
   ]
  },
  {
   "cell_type": "code",
   "execution_count": 8,
   "id": "8eca4e7d",
   "metadata": {},
   "outputs": [
    {
     "name": "stdout",
     "output_type": "stream",
     "text": [
      "Enter the terms   :8\n",
      "fibonacci series upto 8 is [0, 1, 1, 2, 3, 5, 8, 13]\n"
     ]
    }
   ],
   "source": [
    "a=int(input(\"Enter the terms   :\"))\n",
    "x,y=0,1\n",
    "fibonacci_series=[x,y]\n",
    "for i in range(2,a):\n",
    "    p=x+y\n",
    "    fibonacci_series.append(p)\n",
    "    x,y=y,p\n",
    "print(\"fibonacci series upto\",a,\"is\",fibonacci_series )\n"
   ]
  }
 ],
 "metadata": {
  "kernelspec": {
   "display_name": "Python 3 (ipykernel)",
   "language": "python",
   "name": "python3"
  },
  "language_info": {
   "codemirror_mode": {
    "name": "ipython",
    "version": 3
   },
   "file_extension": ".py",
   "mimetype": "text/x-python",
   "name": "python",
   "nbconvert_exporter": "python",
   "pygments_lexer": "ipython3",
   "version": "3.11.4"
  }
 },
 "nbformat": 4,
 "nbformat_minor": 5
}
