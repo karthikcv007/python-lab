{
 "cells": [
  {
   "cell_type": "code",
   "execution_count": 1,
   "id": "708a1dee",
   "metadata": {},
   "outputs": [
    {
     "name": "stdout",
     "output_type": "stream",
     "text": [
      "Enter a four digit number:1234\n",
      "sum of digit = 10\n",
      "reverse of the number: 4321\n",
      "The differece is: -5\n"
     ]
    }
   ],
   "source": [
    "sum=0\n",
    "rev=0\n",
    "diff=0\n",
    "a=[]\n",
    "n=int(input(\"Enter a four digit number:\"))\n",
    "while n!=0:\n",
    "    sum+=n%10\n",
    "    rev=(rev*10)+(n%10)\n",
    "    a.append(n % 10)\n",
    "    n=n//10\n",
    "a.reverse()\n",
    "diff=(a[0]*a[2])-(a[1]*a[3])\n",
    "print(\"sum of digit =\",sum)\n",
    "print(\"reverse of the number:\",rev)\n",
    "#print(a)\n",
    "print(\"The differece is:\",diff)"
   ]
  },
  {
   "cell_type": "code",
   "execution_count": null,
   "id": "53b4d200",
   "metadata": {},
   "outputs": [],
   "source": [
    "def sides():\n",
    "    a1=int(input(\"Enter the  1st side of a triangle:\"))\n",
    "    b1=int(input(\"Enter the 2nd side of triangle:\"))\n",
    "    c1=int(input(\"Enter the 3rd side of the triangle:\"))\n",
    "    return a1,b1,c1\n",
    "def area(x,y,z):\n",
    "    s=(x+y+z)/2\n",
    "    area=(s*(s-x)*(s-y)*(s-z))**0.5\n",
    "    return area\n",
    "q,w,r=sides()\n",
    "g,h,v=sides()\n",
    "p=area(q,w,r)\n",
    "t=area(g,h,v)\n",
    "print(\"Area of 1st triangle:\",p)\n",
    "print(\"Area of 2nd triangle:\",t)\n",
    "a2=p+t\n",
    "print(\"Total area =\",a2)\n",
    "per=(p/a2)*100\n",
    "per2=(t/a2)*100\n",
    "print(\"percentage contribute by each triangle=\",per,per2,sep=\"   \")"
   ]
  },
  {
   "cell_type": "code",
   "execution_count": 4,
   "id": "4e617287",
   "metadata": {},
   "outputs": [
    {
     "name": "stdout",
     "output_type": "stream",
     "text": [
      "Enter the name              :karthik\n",
      "Enter the code          :43\n",
      "Enter the basic pay    :20000\n",
      "--------PAY SLIP--------\n",
      "Employee Name     : karthik\n",
      "Employee code     : 43\n",
      "Basic Salary      : 20000\n",
      "Gross salary      : 25000.0\n",
      "Deduction         : 1660.0\n",
      "Net Salary        : 23340.0\n",
      "---------------------\n"
     ]
    }
   ],
   "source": [
    "def sal():\n",
    "    a = input(\"Enter the name              :\")\n",
    "    b = int(input(\"Enter the code          :\"))\n",
    "    bp = int(input(\"Enter the basic pay    :\"))\n",
    "    if bp < 10000:\n",
    "        da=((bp*5)/100)\n",
    "        hra=((bp*2.5)/100)\n",
    "        ma=500\n",
    "        pt=20\n",
    "        pf=((bp*8)/100)\n",
    "        gs=bp+da+hra+ma\n",
    "        d=pt+pf\n",
    "        ns=gs-d\n",
    "    elif bp<30000:\n",
    "        da=((bp*7.5)/100)\n",
    "        hra=((bp*5)/100)\n",
    "        ma=2500\n",
    "        pt=60\n",
    "        pf=((bp*8)/100)\n",
    "        gs=bp+da+hra+ma\n",
    "        d=pt+pf\n",
    "        ns=gs-d\n",
    "    elif bp < 50000:\n",
    "        da=((bp*11)/100)\n",
    "        hra=((bp*7.5)/100)\n",
    "        ma=5000\n",
    "        pt=60\n",
    "        pf=((bp*11)/100)\n",
    "        it=((bp*11)/100)\n",
    "        gs=bp+da+hra+ma\n",
    "        d=pt+pf+it\n",
    "        ns=gs-d\n",
    "    else:\n",
    "        da = ((bp * 25) / 100)\n",
    "        hra = ((bp * 11) / 100)\n",
    "        ma = 7000\n",
    "        pt = 80\n",
    "        pf = ((bp * 12) / 100)\n",
    "        it = ((bp * 20) / 100)\n",
    "        gs = bp + da + hra + ma\n",
    "        d = pt + pf + it\n",
    "        ns =gs-d\n",
    "    print(\"--------PAY SLIP--------\")\n",
    "    print(\"Employee Name     :\",a)\n",
    "    print(\"Employee code     :\",b)\n",
    "    print(\"Basic Salary      :\",bp)\n",
    "    print(\"Gross salary      :\",gs)\n",
    "    print(\"Deduction         :\",d)\n",
    "    print(\"Net Salary        :\",ns)\n",
    "    print(\"---------------------\")\n",
    "\n",
    "sal()"
   ]
  }
 ],
 "metadata": {
  "kernelspec": {
   "display_name": "Python 3 (ipykernel)",
   "language": "python",
   "name": "python3"
  },
  "language_info": {
   "codemirror_mode": {
    "name": "ipython",
    "version": 3
   },
   "file_extension": ".py",
   "mimetype": "text/x-python",
   "name": "python",
   "nbconvert_exporter": "python",
   "pygments_lexer": "ipython3",
   "version": "3.11.4"
  }
 },
 "nbformat": 4,
 "nbformat_minor": 5
}
